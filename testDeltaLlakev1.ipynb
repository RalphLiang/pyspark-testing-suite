{
 "cells": [
  {
   "cell_type": "code",
   "execution_count": 38,
   "id": "310c4ca8-24b0-4b27-8967-329b762c184e",
   "metadata": {},
   "outputs": [],
   "source": [
    "from pyspark.sql import SparkSession\n",
    "from delta.tables import *\n",
    "from pyspark.sql.functions import *\n",
    "from delta import *\n",
    "import pytz as pytz\n",
    "import datetime as datetime"
   ]
  },
  {
   "cell_type": "code",
   "execution_count": 39,
   "id": "27994f6f-0fa7-4ef2-b081-67f62c0bead4",
   "metadata": {},
   "outputs": [],
   "source": [
    "tw = pytz.timezone('Asia/Taipei')"
   ]
  },
  {
   "cell_type": "code",
   "execution_count": 40,
   "id": "1ef9eaeb-dbf2-4386-aae9-48c8fd54a438",
   "metadata": {},
   "outputs": [],
   "source": [
    "spark = SparkSession \\\n",
    "  .builder \\\n",
    "  .appName(\"test Delta Lake\") \\\n",
    "  .master(\"local[1]\") \\\n",
    "  .config(\"spark.jars.packages\", \"io.delta:delta-core_2.12:2.0.0\") \\\n",
    "  .config(\"spark.sql.extensions\", \"io.delta.sql.DeltaSparkSessionExtension\") \\\n",
    "  .config(\"spark.sql.catalog.spark_catalog\", \"org.apache.spark.sql.delta.catalog.DeltaCatalog\") \\\n",
    "  .getOrCreate()"
   ]
  },
  {
   "cell_type": "code",
   "execution_count": 41,
   "id": "64e4e157-1979-43fd-9e0d-e9eb20ac77b2",
   "metadata": {},
   "outputs": [
    {
     "name": "stdout",
     "output_type": "stream",
     "text": [
      "start time:  2022-10-30 23:58:09.061035+08:00\n",
      "end   time:  2022-10-30 23:58:15.369874+08:00\n"
     ]
    }
   ],
   "source": [
    "print(\"start time: \", datetime.datetime.now(tw))\n",
    "\n",
    "data = spark.range(0, 10)\n",
    "# data.write.format(\"delta\").save(\"/tmp/delta-table\")\n",
    "data.write.format(\"delta\").save(\"delta-table1\")\n",
    "\n",
    "print(\"end   time: \", datetime.datetime.now(tw))"
   ]
  },
  {
   "cell_type": "code",
   "execution_count": 42,
   "id": "7d0e9300-2a6b-491d-b091-e857ebce9950",
   "metadata": {},
   "outputs": [
    {
     "name": "stdout",
     "output_type": "stream",
     "text": [
      "start time:  2022-10-30 23:58:15.391464+08:00\n",
      "+---+\n",
      "| id|\n",
      "+---+\n",
      "|  0|\n",
      "|  1|\n",
      "|  2|\n",
      "|  3|\n",
      "|  4|\n",
      "|  5|\n",
      "|  6|\n",
      "|  7|\n",
      "|  8|\n",
      "|  9|\n",
      "+---+\n",
      "\n",
      "end   time:  2022-10-30 23:58:16.747805+08:00\n"
     ]
    }
   ],
   "source": [
    "print(\"start time: \", datetime.datetime.now(tw))\n",
    "\n",
    "# df = spark.read.format(\"delta\").load(\"/tmp/delta-table\").show()\n",
    "df = spark.read.format(\"delta\").load(\"delta-table1\").show()\n",
    "\n",
    "print(\"end   time: \", datetime.datetime.now(tw))"
   ]
  },
  {
   "cell_type": "code",
   "execution_count": 43,
   "id": "ec19ef30-9c9a-4d7e-83cb-31ea8574c520",
   "metadata": {},
   "outputs": [
    {
     "name": "stdout",
     "output_type": "stream",
     "text": [
      "start time:  2022-10-30 23:58:16.765571+08:00\n",
      "end   time:  2022-10-30 23:58:24.470930+08:00\n"
     ]
    }
   ],
   "source": [
    "print(\"start time: \", datetime.datetime.now(tw))\n",
    "\n",
    "data = spark.range(10, 20)\n",
    "# data.write.format(\"delta\").mode(\"overwrite\").save(\"/tmp/delta-table\")\n",
    "data.write.format(\"delta\").mode(\"overwrite\").save(\"delta-table1\")\n",
    "\n",
    "print(\"end   time: \", datetime.datetime.now(tw))"
   ]
  },
  {
   "cell_type": "code",
   "execution_count": 44,
   "id": "3d5014d6-abe4-419e-acba-43c0eb6fc7e1",
   "metadata": {},
   "outputs": [
    {
     "name": "stdout",
     "output_type": "stream",
     "text": [
      "start time:  2022-10-30 23:58:24.534133+08:00\n",
      "+---+\n",
      "| id|\n",
      "+---+\n",
      "|  0|\n",
      "|  1|\n",
      "|  2|\n",
      "|  3|\n",
      "|  4|\n",
      "|  5|\n",
      "|  6|\n",
      "|  7|\n",
      "|  8|\n",
      "|  9|\n",
      "| 10|\n",
      "| 11|\n",
      "| 12|\n",
      "| 13|\n",
      "| 14|\n",
      "| 15|\n",
      "| 16|\n",
      "| 17|\n",
      "| 18|\n",
      "| 19|\n",
      "+---+\n",
      "\n",
      "end   time:  2022-10-30 23:58:51.930297+08:00\n"
     ]
    }
   ],
   "source": [
    "print(\"start time: \", datetime.datetime.now(tw))\n",
    "\n",
    "# deltaTable = DeltaTable.forPath(spark, \"/tmp/delta-table\")\n",
    "deltaTable = DeltaTable.forPath(spark, \"delta-table1\")\n",
    "\n",
    "# Update every even value by adding 100 to it\n",
    "deltaTable.update(\n",
    "  condition = expr(\"id % 2 == 0\"),\n",
    "  set = { \"id\": expr(\"id + 100\") })\n",
    "\n",
    "# Delete every even value\n",
    "deltaTable.delete(condition = expr(\"id % 2 == 0\"))\n",
    "\n",
    "# Upsert (merge) new data\n",
    "newData = spark.range(0, 20)\n",
    "\n",
    "deltaTable.alias(\"oldData\") \\\n",
    "  .merge(\n",
    "    newData.alias(\"newData\"),\n",
    "    \"oldData.id = newData.id\") \\\n",
    "  .whenMatchedUpdate(set = { \"id\": col(\"newData.id\") }) \\\n",
    "  .whenNotMatchedInsert(values = { \"id\": col(\"newData.id\") }) \\\n",
    "  .execute()\n",
    "\n",
    "deltaTable.toDF().show()\n",
    "\n",
    "print(\"end   time: \", datetime.datetime.now(tw))"
   ]
  },
  {
   "cell_type": "code",
   "execution_count": 45,
   "id": "5ecb9e77-561a-4783-b62d-d1b707f47da0",
   "metadata": {},
   "outputs": [
    {
     "name": "stdout",
     "output_type": "stream",
     "text": [
      "start time:  2022-10-30 23:58:51.949936+08:00\n",
      "+---+\n",
      "| id|\n",
      "+---+\n",
      "|  0|\n",
      "|  1|\n",
      "|  2|\n",
      "|  3|\n",
      "|  4|\n",
      "|  5|\n",
      "|  6|\n",
      "|  7|\n",
      "|  8|\n",
      "|  9|\n",
      "+---+\n",
      "\n",
      "end   time:  2022-10-30 23:58:58.759889+08:00\n"
     ]
    }
   ],
   "source": [
    "print(\"start time: \", datetime.datetime.now(tw))\n",
    "\n",
    "df = spark.read.format(\"delta\") \\\n",
    "  .option(\"versionAsOf\", 0) \\\n",
    "  .load(\"delta-table1\")\n",
    "\n",
    "df.show()\n",
    "\n",
    "print(\"end   time: \", datetime.datetime.now(tw))"
   ]
  },
  {
   "cell_type": "code",
   "execution_count": null,
   "id": "16ef28b0-7bc4-442d-967f-f86468ca72eb",
   "metadata": {},
   "outputs": [],
   "source": []
  }
 ],
 "metadata": {
  "kernelspec": {
   "display_name": "Python 3 (ipykernel)",
   "language": "python",
   "name": "python3"
  },
  "language_info": {
   "codemirror_mode": {
    "name": "ipython",
    "version": 3
   },
   "file_extension": ".py",
   "mimetype": "text/x-python",
   "name": "python",
   "nbconvert_exporter": "python",
   "pygments_lexer": "ipython3",
   "version": "3.10.5"
  }
 },
 "nbformat": 4,
 "nbformat_minor": 5
}
