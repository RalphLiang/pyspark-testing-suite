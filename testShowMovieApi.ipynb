{
 "cells": [
  {
   "cell_type": "code",
   "execution_count": 29,
   "id": "f8352549-d44e-40f7-8b95-74cd5bdd7c22",
   "metadata": {},
   "outputs": [],
   "source": [
    "from pyspark.sql import SparkSession\n",
    "from pyspark.sql.functions import col,udf,lit,current_timestamp\n",
    "from pyspark.sql.types import StructType,StructField,StringType,LongType,DoubleType,TimestampType,DecimalType,FloatType\n",
    "import requests, json\n",
    "import datetime as datetime\n",
    "from pyspark.sql import Row\n",
    "import pytz as pytz"
   ]
  },
  {
   "cell_type": "code",
   "execution_count": 30,
   "id": "6be0753e-457f-456f-b3f3-72bf84c503c8",
   "metadata": {},
   "outputs": [],
   "source": [
    "def executeRestApi(verb, url, headers, body):    \n",
    "  res = None\n",
    "  # Make API request, get response object back, create dataframe from above schema.\n",
    "  try:\n",
    "    if verb == \"get\":\n",
    "      res = requests.get(url, data=body, headers=headers, timeout=5)\n",
    "    else:\n",
    "      res = requests.post(url, data=body, headers=headers)\n",
    "#  except Exception as e:\n",
    "#    return e\n",
    "  except requests.exceptions.RequestException as e:  # This is the correct syntax\n",
    "      raise SystemExit(e)\n",
    "  if res != None and res.status_code == 200:\n",
    "    return json.loads(res.text)\n",
    "  return None"
   ]
  },
  {
   "cell_type": "code",
   "execution_count": 31,
   "id": "e48ca1af-6fc2-43e0-9799-922138001aab",
   "metadata": {},
   "outputs": [],
   "source": [
    "udf_executeRestApi = udf(executeRestApi, schema)\n",
    "\n",
    "# StringType            ShortType\n",
    "# ArrayType             IntegerType\n",
    "# MapType               LongType\n",
    "# StructType            FloatType\n",
    "# DateType              DoubleType\n",
    "# TimestampType         DecimalType\n",
    "# BooleanType           ByteType\n",
    "# CalendarIntervalType  HiveStringType\n",
    "# BinaryType            ObjectType\n",
    "# NumericType           NullType\n",
    "\n",
    "schema = StructType([  \n",
    "  StructField(\"start\", StringType(), True),\n",
    "  StructField(\"end\", StringType(), True),\n",
    "  StructField(\"list\", ArrayType(\n",
    "    StructType([\n",
    "      StructField(\"country\", StringType()),\n",
    "      StructField(\"name\", StringType()),\n",
    "      StructField(\"releaseDate\", StringType()),\n",
    "      StructField(\"issue\", StringType()),\n",
    "      StructField(\"produce\", StringType()),\n",
    "      StructField(\"theaterCount\", IntegerType()),\n",
    "      StructField(\"tickets\", LongType()),\n",
    "      StructField(\"ticketChangeRate\", FloatType()),\n",
    "      StructField(\"amounts\", LongType()),\n",
    "      StructField(\"totalTickets\", LongType()),\n",
    "      StructField(\"totalAmounts\", LongType())\n",
    "    ])\n",
    "  ))\n",
    "])\n",
    "\n",
    "tw = pytz.timezone('Asia/Taipei')\n",
    "\n",
    "body = json.dumps({\n",
    "})"
   ]
  },
  {
   "cell_type": "code",
   "execution_count": 32,
   "id": "a5a47c05-a45c-4fcd-a8ca-6c7fac02a97b",
   "metadata": {},
   "outputs": [],
   "source": [
    "#sc = spark.sparkContext\n",
    "\n",
    "spark = SparkSession \\\n",
    "  .builder \\\n",
    "  .appName(\"Movie REST test\") \\\n",
    "  .master(\"local[2]\") \\\n",
    "  .config(\"spark.driver.memory\",\"8G\") \\\n",
    "  .getOrCreate()\n",
    "\n",
    "sc=spark.sparkContext\n",
    "sc.setLogLevel('INFO')\n",
    "spark.conf.set(\"spark.sql.debug.maxToStringFields\", 100000)\n",
    "spark.conf.set(\"spark.sql.session.timeZone\", \"UTC+8\")"
   ]
  },
  {
   "cell_type": "code",
   "execution_count": 33,
   "id": "fd5f7693-e167-4735-9f5f-f8e14b96b549",
   "metadata": {},
   "outputs": [
    {
     "name": "stdout",
     "output_type": "stream",
     "text": [
      "start time:  2022-10-11 17:29:02.976009+08:00\n"
     ]
    }
   ],
   "source": [
    "print(\"start time: \", datetime.datetime.now(tw))\n",
    "\n",
    "RestApiRequest = Row(\"verb\", \"url\", \"headers\", \"body\")\n",
    "\n",
    "request_df = spark.createDataFrame([\n",
    "            RestApiRequest(\"get\", \"https://boxoffice.tfi.org.tw/api/export?start=2022/10/02&end=2022/10/09\", headers, body)\n",
    "          ])\\\n",
    "          .withColumn(\"execute\", udf_executeRestApi(col(\"verb\"), col(\"url\"), col(\"headers\"), col(\"body\")))\n"
   ]
  },
  {
   "cell_type": "code",
   "execution_count": 34,
   "id": "f8bde382-a1b4-4962-b947-2854693a68d7",
   "metadata": {},
   "outputs": [
    {
     "name": "stdout",
     "output_type": "stream",
     "text": [
      "DataFrame[verb: string, url: string, headers: map<string,string>, body: string, execute: struct<start:string,end:string,list:array<struct<country:string,name:string,releaseDate:string,issue:string,produce:string,theaterCount:int,tickets:bigint,ticketChangeRate:float,amounts:bigint,totalTickets:bigint,totalAmounts:bigint>>>]\n"
     ]
    }
   ],
   "source": [
    "print(request_df)"
   ]
  },
  {
   "cell_type": "code",
   "execution_count": 35,
   "id": "b20e607b-65a5-4e42-9565-c5332ceba7af",
   "metadata": {},
   "outputs": [
    {
     "ename": "PythonException",
     "evalue": "\n  An exception was thrown from the Python worker. Please see the stack trace below.\nTraceback (most recent call last):\n  File \"/tmp/ipykernel_169839/3105118817.py\", line 11, in executeRestApi\nSystemExit: HTTPSConnectionPool(host='boxoffice.tfi.org.tw', port=443): Max retries exceeded with url: /api/export?start=2022/10/02&end=2022/10/09 (Caused by ConnectTimeoutError(<urllib3.connection.HTTPSConnection object at 0x7fc790062320>, 'Connection to boxoffice.tfi.org.tw timed out. (connect timeout=5)'))\n",
     "output_type": "error",
     "traceback": [
      "\u001b[0;31m---------------------------------------------------------------------------\u001b[0m",
      "\u001b[0;31mPythonException\u001b[0m                           Traceback (most recent call last)",
      "Input \u001b[0;32mIn [35]\u001b[0m, in \u001b[0;36m<cell line: 1>\u001b[0;34m()\u001b[0m\n\u001b[1;32m      1\u001b[0m \u001b[43mrequest_df\u001b[49m\u001b[38;5;241;43m.\u001b[39;49m\u001b[43mselect\u001b[49m\u001b[43m(\u001b[49m\u001b[43mexplode\u001b[49m\u001b[43m(\u001b[49m\u001b[43mcol\u001b[49m\u001b[43m(\u001b[49m\u001b[38;5;124;43m\"\u001b[39;49m\u001b[38;5;124;43mexecute.list\u001b[39;49m\u001b[38;5;124;43m\"\u001b[39;49m\u001b[43m)\u001b[49m\u001b[43m)\u001b[49m\u001b[38;5;241;43m.\u001b[39;49m\u001b[43malias\u001b[49m\u001b[43m(\u001b[49m\u001b[38;5;124;43m\"\u001b[39;49m\u001b[38;5;124;43mlist\u001b[39;49m\u001b[38;5;124;43m\"\u001b[39;49m\u001b[43m)\u001b[49m\u001b[43m)\u001b[49m\u001b[43m\\\u001b[49m\n\u001b[0;32m----> 2\u001b[0m \u001b[43m    \u001b[49m\u001b[38;5;241;43m.\u001b[39;49m\u001b[43mselect\u001b[49m\u001b[43m(\u001b[49m\u001b[43mcol\u001b[49m\u001b[43m(\u001b[49m\u001b[38;5;124;43m\"\u001b[39;49m\u001b[38;5;124;43mlist.country\u001b[39;49m\u001b[38;5;124;43m\"\u001b[39;49m\u001b[43m)\u001b[49m\u001b[43m,\u001b[49m\u001b[43m \u001b[49m\u001b[43mcol\u001b[49m\u001b[43m(\u001b[49m\u001b[38;5;124;43m\"\u001b[39;49m\u001b[38;5;124;43mlist.name\u001b[39;49m\u001b[38;5;124;43m\"\u001b[39;49m\u001b[43m)\u001b[49m\u001b[43m)\u001b[49m\u001b[38;5;241;43m.\u001b[39;49m\u001b[43mshow\u001b[49m\u001b[43m(\u001b[49m\u001b[43m)\u001b[49m\n",
      "File \u001b[0;32m/usr/local/spark/python/pyspark/sql/dataframe.py:494\u001b[0m, in \u001b[0;36mDataFrame.show\u001b[0;34m(self, n, truncate, vertical)\u001b[0m\n\u001b[1;32m    491\u001b[0m     \u001b[38;5;28;01mraise\u001b[39;00m \u001b[38;5;167;01mTypeError\u001b[39;00m(\u001b[38;5;124m\"\u001b[39m\u001b[38;5;124mParameter \u001b[39m\u001b[38;5;124m'\u001b[39m\u001b[38;5;124mvertical\u001b[39m\u001b[38;5;124m'\u001b[39m\u001b[38;5;124m must be a bool\u001b[39m\u001b[38;5;124m\"\u001b[39m)\n\u001b[1;32m    493\u001b[0m \u001b[38;5;28;01mif\u001b[39;00m \u001b[38;5;28misinstance\u001b[39m(truncate, \u001b[38;5;28mbool\u001b[39m) \u001b[38;5;129;01mand\u001b[39;00m truncate:\n\u001b[0;32m--> 494\u001b[0m     \u001b[38;5;28mprint\u001b[39m(\u001b[38;5;28;43mself\u001b[39;49m\u001b[38;5;241;43m.\u001b[39;49m\u001b[43m_jdf\u001b[49m\u001b[38;5;241;43m.\u001b[39;49m\u001b[43mshowString\u001b[49m\u001b[43m(\u001b[49m\u001b[43mn\u001b[49m\u001b[43m,\u001b[49m\u001b[43m \u001b[49m\u001b[38;5;241;43m20\u001b[39;49m\u001b[43m,\u001b[49m\u001b[43m \u001b[49m\u001b[43mvertical\u001b[49m\u001b[43m)\u001b[49m)\n\u001b[1;32m    495\u001b[0m \u001b[38;5;28;01melse\u001b[39;00m:\n\u001b[1;32m    496\u001b[0m     \u001b[38;5;28;01mtry\u001b[39;00m:\n",
      "File \u001b[0;32m/usr/local/spark/python/lib/py4j-0.10.9.3-src.zip/py4j/java_gateway.py:1321\u001b[0m, in \u001b[0;36mJavaMember.__call__\u001b[0;34m(self, *args)\u001b[0m\n\u001b[1;32m   1315\u001b[0m command \u001b[38;5;241m=\u001b[39m proto\u001b[38;5;241m.\u001b[39mCALL_COMMAND_NAME \u001b[38;5;241m+\u001b[39m\\\n\u001b[1;32m   1316\u001b[0m     \u001b[38;5;28mself\u001b[39m\u001b[38;5;241m.\u001b[39mcommand_header \u001b[38;5;241m+\u001b[39m\\\n\u001b[1;32m   1317\u001b[0m     args_command \u001b[38;5;241m+\u001b[39m\\\n\u001b[1;32m   1318\u001b[0m     proto\u001b[38;5;241m.\u001b[39mEND_COMMAND_PART\n\u001b[1;32m   1320\u001b[0m answer \u001b[38;5;241m=\u001b[39m \u001b[38;5;28mself\u001b[39m\u001b[38;5;241m.\u001b[39mgateway_client\u001b[38;5;241m.\u001b[39msend_command(command)\n\u001b[0;32m-> 1321\u001b[0m return_value \u001b[38;5;241m=\u001b[39m \u001b[43mget_return_value\u001b[49m\u001b[43m(\u001b[49m\n\u001b[1;32m   1322\u001b[0m \u001b[43m    \u001b[49m\u001b[43manswer\u001b[49m\u001b[43m,\u001b[49m\u001b[43m \u001b[49m\u001b[38;5;28;43mself\u001b[39;49m\u001b[38;5;241;43m.\u001b[39;49m\u001b[43mgateway_client\u001b[49m\u001b[43m,\u001b[49m\u001b[43m \u001b[49m\u001b[38;5;28;43mself\u001b[39;49m\u001b[38;5;241;43m.\u001b[39;49m\u001b[43mtarget_id\u001b[49m\u001b[43m,\u001b[49m\u001b[43m \u001b[49m\u001b[38;5;28;43mself\u001b[39;49m\u001b[38;5;241;43m.\u001b[39;49m\u001b[43mname\u001b[49m\u001b[43m)\u001b[49m\n\u001b[1;32m   1324\u001b[0m \u001b[38;5;28;01mfor\u001b[39;00m temp_arg \u001b[38;5;129;01min\u001b[39;00m temp_args:\n\u001b[1;32m   1325\u001b[0m     temp_arg\u001b[38;5;241m.\u001b[39m_detach()\n",
      "File \u001b[0;32m/usr/local/spark/python/pyspark/sql/utils.py:117\u001b[0m, in \u001b[0;36mcapture_sql_exception.<locals>.deco\u001b[0;34m(*a, **kw)\u001b[0m\n\u001b[1;32m    113\u001b[0m converted \u001b[38;5;241m=\u001b[39m convert_exception(e\u001b[38;5;241m.\u001b[39mjava_exception)\n\u001b[1;32m    114\u001b[0m \u001b[38;5;28;01mif\u001b[39;00m \u001b[38;5;129;01mnot\u001b[39;00m \u001b[38;5;28misinstance\u001b[39m(converted, UnknownException):\n\u001b[1;32m    115\u001b[0m     \u001b[38;5;66;03m# Hide where the exception came from that shows a non-Pythonic\u001b[39;00m\n\u001b[1;32m    116\u001b[0m     \u001b[38;5;66;03m# JVM exception message.\u001b[39;00m\n\u001b[0;32m--> 117\u001b[0m     \u001b[38;5;28;01mraise\u001b[39;00m converted \u001b[38;5;28;01mfrom\u001b[39;00m \u001b[38;5;28mNone\u001b[39m\n\u001b[1;32m    118\u001b[0m \u001b[38;5;28;01melse\u001b[39;00m:\n\u001b[1;32m    119\u001b[0m     \u001b[38;5;28;01mraise\u001b[39;00m\n",
      "\u001b[0;31mPythonException\u001b[0m: \n  An exception was thrown from the Python worker. Please see the stack trace below.\nTraceback (most recent call last):\n  File \"/tmp/ipykernel_169839/3105118817.py\", line 11, in executeRestApi\nSystemExit: HTTPSConnectionPool(host='boxoffice.tfi.org.tw', port=443): Max retries exceeded with url: /api/export?start=2022/10/02&end=2022/10/09 (Caused by ConnectTimeoutError(<urllib3.connection.HTTPSConnection object at 0x7fc790062320>, 'Connection to boxoffice.tfi.org.tw timed out. (connect timeout=5)'))\n"
     ]
    }
   ],
   "source": [
    "request_df.select(explode(col(\"execute.list\")).alias(\"list\"))\\\n",
    "    .select(col(\"list.country\"), col(\"list.name\")).show()"
   ]
  },
  {
   "cell_type": "code",
   "execution_count": 36,
   "id": "23091077-f91f-4072-bf39-58a2b073132e",
   "metadata": {},
   "outputs": [],
   "source": [
    "spark.stop()"
   ]
  },
  {
   "cell_type": "code",
   "execution_count": null,
   "id": "53cfc54c-5bfb-4ee8-a814-7c7945587130",
   "metadata": {},
   "outputs": [],
   "source": []
  }
 ],
 "metadata": {
  "kernelspec": {
   "display_name": "Python 3 (ipykernel)",
   "language": "python",
   "name": "python3"
  },
  "language_info": {
   "codemirror_mode": {
    "name": "ipython",
    "version": 3
   },
   "file_extension": ".py",
   "mimetype": "text/x-python",
   "name": "python",
   "nbconvert_exporter": "python",
   "pygments_lexer": "ipython3",
   "version": "3.10.5"
  }
 },
 "nbformat": 4,
 "nbformat_minor": 5
}
