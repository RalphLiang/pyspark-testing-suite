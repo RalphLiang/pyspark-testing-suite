{
 "cells": [
  {
   "cell_type": "code",
   "execution_count": 1,
   "id": "e9f0326f-6541-4721-bc3d-e4c810a41b99",
   "metadata": {},
   "outputs": [],
   "source": [
    "from pyspark.sql import SparkSession\n",
    "from pyspark.sql.functions import col,udf,lit,current_timestamp, explode\n",
    "from pyspark.sql.types import ArrayType,StructType,StructField,StringType,IntegerType,LongType,DoubleType,TimestampType,DecimalType,FloatType\n",
    "import requests, json\n",
    "import datetime as datetime\n",
    "from pyspark.sql import Row\n",
    "import pytz as pytz"
   ]
  },
  {
   "cell_type": "code",
   "execution_count": 8,
   "id": "017cb5b1-6160-4426-bfeb-aef1323fa0a3",
   "metadata": {},
   "outputs": [],
   "source": [
    "def executeRestApi(verb, url, headers, body):    \n",
    "  res = None\n",
    "  # Make API request, get response object back, create dataframe from above schema.\n",
    "  try:\n",
    "    if verb == \"get\":\n",
    "      res = requests.get(url, data=body, headers=headers, timeout=15)\n",
    "    else:\n",
    "      res = requests.post(url, data=body, headers=headers)\n",
    "#  except Exception as e:\n",
    "#    return e\n",
    "  except requests.exceptions.RequestException as e:  # This is the correct syntax\n",
    "      raise SystemExit(e)\n",
    "  if res != None and res.status_code == 200:\n",
    "    return json.loads(res.text)\n",
    "  return None"
   ]
  },
  {
   "cell_type": "code",
   "execution_count": 9,
   "id": "704daa54-c1b9-492a-baa0-781d0909bfa0",
   "metadata": {},
   "outputs": [],
   "source": [
    "# StringType            ShortType\n",
    "# ArrayType             IntegerType\n",
    "# MapType               LongType\n",
    "# StructType            FloatType\n",
    "# DateType              DoubleType\n",
    "# TimestampType         DecimalType\n",
    "# BooleanType           ByteType\n",
    "# CalendarIntervalType  HiveStringType\n",
    "# BinaryType            ObjectType\n",
    "# NumericType           NullType\n",
    "\n",
    "schema = StructType([  \n",
    "  StructField(\"start\", StringType(), True),\n",
    "  StructField(\"end\", StringType(), True),\n",
    "  StructField(\"list\", ArrayType(\n",
    "    StructType([\n",
    "      StructField(\"country\", StringType()),\n",
    "      StructField(\"name\", StringType()),\n",
    "      StructField(\"releaseDate\", StringType()),\n",
    "      StructField(\"issue\", StringType()),\n",
    "      StructField(\"produce\", StringType()),\n",
    "      StructField(\"theaterCount\", IntegerType()),\n",
    "      StructField(\"tickets\", LongType()),\n",
    "      StructField(\"ticketChangeRate\", FloatType()),\n",
    "      StructField(\"amounts\", LongType()),\n",
    "      StructField(\"totalTickets\", LongType()),\n",
    "      StructField(\"totalAmounts\", LongType())\n",
    "    ])\n",
    "  ))\n",
    "])\n",
    "\n",
    "udf_executeRestApi = udf(executeRestApi, schema)\n",
    "\n",
    "tw = pytz.timezone('Asia/Taipei')\n",
    "\n",
    "headers = {\n",
    "    'content-type': \"application/json\"\n",
    "}\n",
    "\n",
    "body = json.dumps({\n",
    "})"
   ]
  },
  {
   "cell_type": "code",
   "execution_count": 10,
   "id": "bcb91482-3818-4124-b4e8-9391f172529f",
   "metadata": {},
   "outputs": [],
   "source": [
    "#sc = spark.sparkContext\n",
    "\n",
    "spark = SparkSession \\\n",
    "  .builder \\\n",
    "  .appName(\"Movie REST test\") \\\n",
    "  .master(\"local[1]\") \\\n",
    "  .config(\"spark.driver.memory\",\"8G\") \\\n",
    "  .getOrCreate()\n",
    "\n",
    "sc=spark.sparkContext\n",
    "sc.setLogLevel('INFO')\n",
    "spark.conf.set(\"spark.sql.debug.maxToStringFields\", 100000)\n",
    "spark.conf.set(\"spark.sql.session.timeZone\", \"UTC+8\")"
   ]
  },
  {
   "cell_type": "code",
   "execution_count": 11,
   "id": "daa5cc38-58b1-4da5-b46b-9c42869644be",
   "metadata": {},
   "outputs": [
    {
     "name": "stdout",
     "output_type": "stream",
     "text": [
      "start time:  2022-10-30 23:11:20.211307+08:00\n"
     ]
    }
   ],
   "source": [
    "print(\"start time: \", datetime.datetime.now(tw))\n",
    "\n",
    "RestApiRequest = Row(\"verb\", \"url\", \"headers\", \"body\")\n",
    "\n",
    "request_df = spark.createDataFrame([\n",
    "            RestApiRequest(\"get\", \"https://boxoffice.tfi.org.tw/api/export?start=2022/10/21&end=2022/10/28\", headers, body)\n",
    "          ])\\\n",
    "          .withColumn(\"execute\", udf_executeRestApi(col(\"verb\"), col(\"url\"), col(\"headers\"), col(\"body\")))"
   ]
  },
  {
   "cell_type": "code",
   "execution_count": 12,
   "id": "8bdc32e9-4a84-4d9f-97bc-f2269936a8c8",
   "metadata": {},
   "outputs": [
    {
     "name": "stdout",
     "output_type": "stream",
     "text": [
      "DataFrame[verb: string, url: string, headers: map<string,string>, body: string, execute: struct<start:string,end:string,list:array<struct<country:string,name:string,releaseDate:string,issue:string,produce:string,theaterCount:int,tickets:bigint,ticketChangeRate:float,amounts:bigint,totalTickets:bigint,totalAmounts:bigint>>>]\n"
     ]
    }
   ],
   "source": [
    "print(request_df)"
   ]
  },
  {
   "cell_type": "code",
   "execution_count": 16,
   "id": "32db1bf2-02a1-45e9-8857-fb4bfd675d90",
   "metadata": {},
   "outputs": [
    {
     "name": "stdout",
     "output_type": "stream",
     "text": [
      "start time:  2022-10-30 23:13:00.116309+08:00\n",
      "+--------+-----------------------+\n",
      "| country|                   name|\n",
      "+--------+-----------------------+\n",
      "|    法國|               全面開戰|\n",
      "|中華民國|                 阮玲玉|\n",
      "|    美國|             齊瓦哥醫生|\n",
      "|    美國|             達賴的一生|\n",
      "|    法國|         仰望星空的少年|\n",
      "|中華民國|                 願未央|\n",
      "|中華民國|                 兜兜風|\n",
      "|    日本|       神隱少女(日文版)|\n",
      "|  加拿大|               沉默呼聲|\n",
      "|    美國|     小小兵2:格魯的崛起|\n",
      "|    香港|               神探大戰|\n",
      "|    美國|               回歸野性|\n",
      "|    美國|             最後的冰川|\n",
      "|    美國|       捍衛戰士: 獨行俠|\n",
      "|中華民國|               孫行者傳|\n",
      "|    印尼|         娜娜：逝水年華|\n",
      "|    日本|名偵探柯南 萬聖節的新娘|\n",
      "|    美國|       巴斯光年(英文版)|\n",
      "|    日本|     只是現在不走運而已|\n",
      "|    印度|         偉大的印度廚房|\n",
      "+--------+-----------------------+\n",
      "only showing top 20 rows\n",
      "\n",
      "end   time:  2022-10-30 23:13:06.374921+08:00\n"
     ]
    }
   ],
   "source": [
    "print(\"start time: \", datetime.datetime.now(tw))\n",
    "\n",
    "request_df.select(explode(col(\"execute.list\")).alias(\"list\"))\\\n",
    "    .select(col(\"list.country\"), col(\"list.name\")).show()\n",
    "\n",
    "print(\"end   time: \", datetime.datetime.now(tw))"
   ]
  },
  {
   "cell_type": "code",
   "execution_count": null,
   "id": "16e59a02-8d26-4483-90e3-42ca2a665638",
   "metadata": {},
   "outputs": [],
   "source": [
    "spark.stop()"
   ]
  }
 ],
 "metadata": {
  "kernelspec": {
   "display_name": "Python 3 (ipykernel)",
   "language": "python",
   "name": "python3"
  },
  "language_info": {
   "codemirror_mode": {
    "name": "ipython",
    "version": 3
   },
   "file_extension": ".py",
   "mimetype": "text/x-python",
   "name": "python",
   "nbconvert_exporter": "python",
   "pygments_lexer": "ipython3",
   "version": "3.10.5"
  }
 },
 "nbformat": 4,
 "nbformat_minor": 5
}
