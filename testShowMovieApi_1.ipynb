{
 "cells": [
  {
   "cell_type": "code",
   "execution_count": 184,
   "id": "3f44d69f-0da8-4aad-8f41-59510daf9702",
   "metadata": {},
   "outputs": [],
   "source": [
    "from pyspark.sql import SparkSession\n",
    "from pyspark.sql.functions import col,udf,lit,current_timestamp, explode, substring\n",
    "from pyspark.sql.types import ArrayType,StructType,StructField,StringType,IntegerType,LongType,DoubleType,TimestampType,DecimalType,FloatType\n",
    "import requests, json\n",
    "import datetime as datetime\n",
    "from pyspark.sql import Row\n",
    "import pytz as pytz"
   ]
  },
  {
   "cell_type": "code",
   "execution_count": 185,
   "id": "1ae8d6d2-6a58-42ff-a310-60bcb2d39eb7",
   "metadata": {},
   "outputs": [],
   "source": [
    "#sc = spark.sparkContext\n",
    "\n",
    "spark = SparkSession \\\n",
    "  .builder \\\n",
    "  .appName(\"Movie REST test\") \\\n",
    "  .master(\"local[4]\") \\\n",
    "  .config(\"spark.driver.memory\",\"4G\") \\\n",
    "  .getOrCreate()\n",
    "\n",
    "sc=spark.sparkContext\n",
    "sc.setLogLevel('INFO')\n",
    "spark.conf.set(\"spark.sql.debug.maxToStringFields\", 100000)\n",
    "spark.conf.set(\"spark.sql.session.timeZone\", \"UTC+8\")"
   ]
  },
  {
   "cell_type": "code",
   "execution_count": 186,
   "id": "9c9f02e3-7f3f-45a4-829c-cc08bde72df6",
   "metadata": {},
   "outputs": [
    {
     "data": {
      "text/plain": [
       "[Row(verb=None, url=None, start_date=None, end_date=None, headers=None, body=None)]"
      ]
     },
     "execution_count": 186,
     "metadata": {},
     "output_type": "execute_result"
    }
   ],
   "source": [
    "config_schema = StructType([  \n",
    "  StructField(\"verb\", StringType(), True),\n",
    "  StructField(\"url\", StringType(), True),\n",
    "  StructField(\"start_date\", StringType(), True),\n",
    "  StructField(\"end_date\", StringType(), True),\n",
    "  StructField(\"headers\", StringType(), True),\n",
    "  StructField(\"body\", StringType(), True)\n",
    "])\n",
    "\n",
    "api_df = spark.read.schema(config_schema).json(\"apiconfig.json\")\n",
    "\n",
    "api_df.take(1)"
   ]
  },
  {
   "cell_type": "code",
   "execution_count": 187,
   "id": "8f15655b-9396-489c-8116-327052f9985b",
   "metadata": {},
   "outputs": [],
   "source": [
    "verb = \"get\"\n",
    "\n",
    "url = \"https://boxoffice.tfi.org.tw/api/export\"\n",
    "\n",
    "start_date = \"2022/10/02\"\n",
    "\n",
    "end_date = \"2022/10/09\"\n",
    "\n",
    "headers = {\n",
    "    'content-type': \"application/json\"\n",
    "}\n",
    "\n",
    "body = json.dumps({\n",
    "})\n",
    "\n",
    "RestApiRequest = Row(\"verb\", \"url\", \"start_date\", \"end_date\", \"headers\", \"body\")\n",
    "\n",
    "tw = pytz.timezone('Asia/Taipei')"
   ]
  },
  {
   "cell_type": "code",
   "execution_count": 188,
   "id": "38ff80ad-a5d0-4677-920f-4c9e51707d90",
   "metadata": {},
   "outputs": [],
   "source": [
    "def executeRestApi(verb, url, start_date, end_date, headers, body):\n",
    "    \n",
    "  res = None\n",
    "\n",
    "  url = url + \"?start={}\".format(start_date) + \"&end={}\".format(end_date)\n",
    "    \n",
    "  # Make API request, get response object back, create dataframe from above schema.\n",
    "  try:\n",
    "    if verb == \"get\":\n",
    "      res = requests.get(url, data=body, headers=headers, timeout=5)\n",
    "    else:\n",
    "      res = requests.post(url, data=body, headers=headers)\n",
    "#  except Exception as e:\n",
    "#    return e\n",
    "  except requests.exceptions.RequestException as e:  # This is the correct syntax\n",
    "      raise SystemExit(e)\n",
    "  if res != None and res.status_code == 200:\n",
    "    return json.loads(res.text)\n",
    "                      \n",
    "  return None"
   ]
  },
  {
   "cell_type": "code",
   "execution_count": 189,
   "id": "35c384c7-55c6-4cc4-9810-0b85a8cf5a61",
   "metadata": {},
   "outputs": [
    {
     "name": "stdout",
     "output_type": "stream",
     "text": [
      "1st stime:  2022-10-11 23:49:36.535533+08:00\n",
      "1st etime:  2022-10-11 23:49:38.031841+08:00\n"
     ]
    }
   ],
   "source": [
    "print(\"1st stime: \", datetime.datetime.now(tw))\n",
    "\n",
    "request_df = spark.createDataFrame([\n",
    "            RestApiRequest(verb, url, start_date, end_date , headers, body)\n",
    "          ])\n",
    "\n",
    "# request_df.printSchema()\n",
    "\n",
    "request_df.take(1)\n",
    "\n",
    "print(\"1st etime: \", datetime.datetime.now(tw))"
   ]
  },
  {
   "cell_type": "code",
   "execution_count": 190,
   "id": "a499413b-69a0-43ad-af42-f147e00d4739",
   "metadata": {},
   "outputs": [],
   "source": [
    "schema = StructType([  \n",
    "  StructField(\"start\", StringType(), True),\n",
    "  StructField(\"end\", StringType(), True),\n",
    "  StructField(\"list\", ArrayType(\n",
    "    StructType([\n",
    "      StructField(\"country\", StringType()),\n",
    "      StructField(\"name\", StringType()),\n",
    "      StructField(\"releaseDate\", StringType()),\n",
    "      StructField(\"issue\", StringType()),\n",
    "      StructField(\"produce\", StringType()),\n",
    "      StructField(\"theaterCount\", IntegerType()),\n",
    "      StructField(\"tickets\", LongType()),\n",
    "      StructField(\"ticketChangeRate\", FloatType()),\n",
    "      StructField(\"amounts\", LongType()),\n",
    "      StructField(\"totalTickets\", LongType()),\n",
    "      StructField(\"totalAmounts\", LongType())\n",
    "    ])\n",
    "  ))\n",
    "])\n",
    "\n",
    "udf_executeRestApi = udf(executeRestApi, schema)"
   ]
  },
  {
   "cell_type": "code",
   "execution_count": 191,
   "id": "05784f34-a240-4ca8-8e2d-1eebc2e80b3b",
   "metadata": {},
   "outputs": [
    {
     "name": "stdout",
     "output_type": "stream",
     "text": [
      "2nd stime:  2022-10-11 23:49:38.687867+08:00\n",
      "+----+--------------------+----------+----------+--------------------+----+--------------------+\n",
      "|verb|                 url|start_date|  end_date|             headers|body|              result|\n",
      "+----+--------------------+----------+----------+--------------------+----+--------------------+\n",
      "| get|https://boxoffice...|2022/10/02|2022/10/09|{content-type -> ...|  {}|{2022-10-02T00:00...|\n",
      "+----+--------------------+----------+----------+--------------------+----+--------------------+\n",
      "\n",
      "2nd etime:  2022-10-11 23:49:42.482952+08:00\n"
     ]
    }
   ],
   "source": [
    "print(\"2nd stime: \", datetime.datetime.now(tw))\n",
    "\n",
    "request_df = request_df.withColumn(\"result\", \\\n",
    "                udf_executeRestApi(col(\"verb\"), col(\"url\"), col(\"start_date\"), col(\"end_date\"), col(\"headers\"), col(\"body\")))\n",
    "\n",
    "request_df.show()\n",
    "\n",
    "print(\"2nd etime: \", datetime.datetime.now(tw))"
   ]
  },
  {
   "cell_type": "code",
   "execution_count": 192,
   "id": "77b62fed-9dc2-40a8-b9f7-7646f51543ae",
   "metadata": {},
   "outputs": [
    {
     "name": "stdout",
     "output_type": "stream",
     "text": [
      "root\n",
      " |-- verb: string (nullable = true)\n",
      " |-- url: string (nullable = true)\n",
      " |-- start_date: string (nullable = true)\n",
      " |-- end_date: string (nullable = true)\n",
      " |-- headers: map (nullable = true)\n",
      " |    |-- key: string\n",
      " |    |-- value: string (valueContainsNull = true)\n",
      " |-- body: string (nullable = true)\n",
      " |-- result: struct (nullable = true)\n",
      " |    |-- start: string (nullable = true)\n",
      " |    |-- end: string (nullable = true)\n",
      " |    |-- list: array (nullable = true)\n",
      " |    |    |-- element: struct (containsNull = true)\n",
      " |    |    |    |-- country: string (nullable = true)\n",
      " |    |    |    |-- name: string (nullable = true)\n",
      " |    |    |    |-- releaseDate: string (nullable = true)\n",
      " |    |    |    |-- issue: string (nullable = true)\n",
      " |    |    |    |-- produce: string (nullable = true)\n",
      " |    |    |    |-- theaterCount: integer (nullable = true)\n",
      " |    |    |    |-- tickets: long (nullable = true)\n",
      " |    |    |    |-- ticketChangeRate: float (nullable = true)\n",
      " |    |    |    |-- amounts: long (nullable = true)\n",
      " |    |    |    |-- totalTickets: long (nullable = true)\n",
      " |    |    |    |-- totalAmounts: long (nullable = true)\n",
      "\n"
     ]
    }
   ],
   "source": [
    "request_df.printSchema()"
   ]
  },
  {
   "cell_type": "code",
   "execution_count": 193,
   "id": "26fb56a0-9071-4258-93c0-222f3bd909f8",
   "metadata": {},
   "outputs": [
    {
     "name": "stdout",
     "output_type": "stream",
     "text": [
      "3rd stime:  2022-10-11 23:49:42.635233+08:00\n",
      "+--------+------------------------------------------------------------------+--------------------+-----------+-------+\n",
      "|country |name                                                              |issue               |releaseDate|tickets|\n",
      "+--------+------------------------------------------------------------------+--------------------+-----------+-------+\n",
      "|日本    |航海王劇場版 : 紅髮歌姬                                           |薩摩亞商雄讚股份有限|2022-08-13 |11195  |\n",
      "|美國    |阿凡達 (A版)                                                      |博偉電影股份有限公司|2022-09-23 |10580  |\n",
      "|日本    |破案天才伽利略：沉默的遊行                                        |威視股份有限公司    |2022-09-23 |6237   |\n",
      "|韓國    |機密同盟2                                                         |車庫娛樂股份有限公司|2022-09-08 |5675   |\n",
      "|美國    |捍衛戰士: 獨行俠                                                  |美商美國派拉蒙影片股|2022-05-23 |4762   |\n",
      "|日本    |新‧超人力霸王                                                     |野獸國股份有限公司  |2022-09-13 |4506   |\n",
      "|美國    |墜                                                                |車庫娛樂股份有限公司|2022-09-16 |3813   |\n",
      "|中華民國|科學少女                                                          |華影國際影藝有限公司|2022-09-16 |3084   |\n",
      "|日本    |電影版 搖曳露營△                                                  |薩摩亞商羚邦(亞洲)  |2022-09-16 |3079   |\n",
      "|日本    |神隱少女(日文版)                                                  |香港商甲上娛樂有限公|2022-09-08 |2716   |\n",
      "|韓國    |語意錯誤電影版                                                    |采昌國際多媒體股份有|2022-09-07 |2571   |\n",
      "|美國    |別擔心親愛的                                                      |美商華納兄弟（遠東）|2022-09-16 |2478   |\n",
      "|香港    |花樣年華 4K數位修復版                                             |英屬蓋曼群島商威望國|2022-09-03 |1840   |\n",
      "|美國    |子彈列車                                                          |美商台灣索尼影業發行|2022-08-03 |1713   |\n",
      "|日本    |劇場版 五等分的新娘                                               |車庫娛樂股份有限公司|2022-08-26 |1674   |\n",
      "|中華民國|阮玲玉                                                            |香港商甲上娛樂有限公|1991-11-29 |1383   |\n",
      "|日本    |蠟筆小新：幽靈忍者珍風傳                                          |木棉花國際股份有限公|2022-08-04 |1211   |\n",
      "|比利時  |怪胎英雄：奇克探險記                                              |木棉花國際股份有限公|2022-09-23 |1208   |\n",
      "|日本    |特『刀劍亂舞-花丸-』～華之卷～(第一周)                            |天馬行空數位有限公司|2022-09-23 |1158   |\n",
      "|日本    |七龍珠超：超級英雄(日文版)                                        |美商台灣索尼影業發行|2022-09-03 |1144   |\n",
      "|香港    |飯戲攻心                                                          |華映娛樂股份有限公司|2022-09-23 |1009   |\n",
      "|美國    |小小兵2:格魯的崛起                                                |美商美國環球影片股份|2022-07-20 |927    |\n",
      "|美國    |毛骨悚然：惡魔重生                                                |車庫娛樂股份有限公司|2022-09-23 |900    |\n",
      "|日本    |Ｎ号棟鬧鬼                                                        |天馬行空數位有限公司|2022-09-21 |872    |\n",
      "|中華民國|臥虎藏龍                                                          |美商台灣索尼影業發行|2000-07-07 |851    |\n",
      "|中華民國|他還年輕                                                          |目宿媒體股份有限公司|2022-09-02 |821    |\n",
      "|加拿大  |沉默呼聲                                                          |漂流木制作影視有限公|2022-08-12 |787    |\n",
      "|中華民國|兜兜風                                                            |月晴映像有限公司    |2022-09-16 |750    |\n",
      "|美國    |孤兒怨2：最黑暗的過去                                             |寶嘉租賃股份有限公司|2022-08-26 |742    |\n",
      "|中華民國|關於，半夜夢見林默娘乘著海湧把垃圾全丟進我的未來這件塑，好像是真的|車庫娛樂股份有限公司|2022-09-16 |703    |\n",
      "|中華民國|捍衛戰士+捍衛戰士2：獨行俠                                        |美商美國派拉蒙影片股|2022-09-18 |665    |\n",
      "|日本    |劇場版 超時空要塞F~虛空歌姬~                                      |水元素文化傳媒有限公|2022-09-07 |663    |\n",
      "|美國    |看你往哪跑                                                        |博偉電影股份有限公司|2022-09-16 |661    |\n",
      "|日本    |擅長捉弄人的高木同學劇場版                                        |木棉花國際股份有限公|2022-09-02 |642    |\n",
      "|日本    |角落小夥伴電影版：藍色月夜的魔法之子(日語版)                      |威視股份有限公司    |2022-08-05 |588    |\n",
      "|美國    |拉辛正傳                                                          |美商美國派拉蒙影片股|2022-09-08 |502    |\n",
      "|韓國    |緊急迫降                                                          |車庫娛樂股份有限公司|2022-08-12 |463    |\n",
      "|美國    |侏羅紀世界: 統霸天下                                              |美商美國環球影片股份|2022-06-08 |434    |\n",
      "|日本    |名偵探柯南 萬聖節的新娘                                           |普威爾國際股份有限公|2022-06-30 |339    |\n",
      "|美國    |2001太空漫遊                                                      |美商華納兄弟（遠東）|2018-06-04 |337    |\n",
      "|法國    |死噬                                                              |采昌國際多媒體股份有|2022-09-23 |299    |\n",
      "|中華民國|舞徑                                                              |好威映象有限公司    |2022-09-16 |289    |\n",
      "|美國    |喜悅：達賴喇嘛遇見屠圖主教                                        |佳映娛樂國際股份有限|2022-07-22 |200    |\n",
      "|美國    |貓王艾維斯                                                        |美商華納兄弟（遠東）|2022-06-23 |196    |\n",
      "|美國    |三千年的渴望                                                      |車庫娛樂股份有限公司|2022-09-02 |180    |\n",
      "|法國    |拆彈倒數30分鐘                                                    |仲業股份有限公司    |2022-09-23 |174    |\n",
      "|越南    |迷霧中的孩子                                                      |前景娛樂有限公司    |2022-09-23 |144    |\n",
      "|英國    |性愛成癮的男人                                                    |車庫娛樂股份有限公司|2022-09-23 |142    |\n",
      "|香港    |美少年之戀                                                        |英屬蓋曼群島商威望國|2022-09-23 |137    |\n",
      "|美國    |不!                                                               |美商美國環球影片股份|2022-08-12 |128    |\n",
      "+--------+------------------------------------------------------------------+--------------------+-----------+-------+\n",
      "only showing top 50 rows\n",
      "\n",
      "3rd etime:  2022-10-11 23:49:49.780153+08:00\n"
     ]
    }
   ],
   "source": [
    "print(\"3rd stime: \", datetime.datetime.now(tw))\n",
    "\n",
    "request_df.select(explode(col(\"result.list\")).alias(\"list\")) \\\n",
    "    .select(col(\"list.country\"), col(\"list.name\"), \\\n",
    "            substring(col(\"list.issue\"),1,10).alias(\"issue\"), \\\n",
    "            substring(col(\"list.releaseDate\"),1,10).alias(\"releaseDate\"), col(\"list.tickets\")) \\\n",
    "    .sort(col(\"list.tickets\").desc()).show(50, truncate=False)\n",
    "\n",
    "print(\"3rd etime: \", datetime.datetime.now(tw))"
   ]
  },
  {
   "cell_type": "code",
   "execution_count": 194,
   "id": "ba1c4796-128d-41d4-a913-ebd2c4175abd",
   "metadata": {},
   "outputs": [
    {
     "name": "stdout",
     "output_type": "stream",
     "text": [
      "4th stime:  2022-10-11 23:49:59.478361+08:00\n",
      "+--------+------------------------------------------------------------------+--------------------+-----------+-------+\n",
      "|country |movie_name                                                        |issue               |releaseDate|tickets|\n",
      "+--------+------------------------------------------------------------------+--------------------+-----------+-------+\n",
      "|日本    |航海王劇場版 : 紅髮歌姬                                           |薩摩亞商雄讚股份有限|2022-08-13 |11195  |\n",
      "|美國    |阿凡達 (A版)                                                      |博偉電影股份有限公司|2022-09-23 |10580  |\n",
      "|日本    |破案天才伽利略：沉默的遊行                                        |威視股份有限公司    |2022-09-23 |6237   |\n",
      "|韓國    |機密同盟2                                                         |車庫娛樂股份有限公司|2022-09-08 |5675   |\n",
      "|美國    |捍衛戰士: 獨行俠                                                  |美商美國派拉蒙影片股|2022-05-23 |4762   |\n",
      "|日本    |新‧超人力霸王                                                     |野獸國股份有限公司  |2022-09-13 |4506   |\n",
      "|美國    |墜                                                                |車庫娛樂股份有限公司|2022-09-16 |3813   |\n",
      "|中華民國|科學少女                                                          |華影國際影藝有限公司|2022-09-16 |3084   |\n",
      "|日本    |電影版 搖曳露營△                                                  |薩摩亞商羚邦(亞洲)  |2022-09-16 |3079   |\n",
      "|日本    |神隱少女(日文版)                                                  |香港商甲上娛樂有限公|2022-09-08 |2716   |\n",
      "|韓國    |語意錯誤電影版                                                    |采昌國際多媒體股份有|2022-09-07 |2571   |\n",
      "|美國    |別擔心親愛的                                                      |美商華納兄弟（遠東）|2022-09-16 |2478   |\n",
      "|香港    |花樣年華 4K數位修復版                                             |英屬蓋曼群島商威望國|2022-09-03 |1840   |\n",
      "|美國    |子彈列車                                                          |美商台灣索尼影業發行|2022-08-03 |1713   |\n",
      "|日本    |劇場版 五等分的新娘                                               |車庫娛樂股份有限公司|2022-08-26 |1674   |\n",
      "|中華民國|阮玲玉                                                            |香港商甲上娛樂有限公|1991-11-29 |1383   |\n",
      "|日本    |蠟筆小新：幽靈忍者珍風傳                                          |木棉花國際股份有限公|2022-08-04 |1211   |\n",
      "|比利時  |怪胎英雄：奇克探險記                                              |木棉花國際股份有限公|2022-09-23 |1208   |\n",
      "|日本    |特『刀劍亂舞-花丸-』～華之卷～(第一周)                            |天馬行空數位有限公司|2022-09-23 |1158   |\n",
      "|日本    |七龍珠超：超級英雄(日文版)                                        |美商台灣索尼影業發行|2022-09-03 |1144   |\n",
      "|香港    |飯戲攻心                                                          |華映娛樂股份有限公司|2022-09-23 |1009   |\n",
      "|美國    |小小兵2:格魯的崛起                                                |美商美國環球影片股份|2022-07-20 |927    |\n",
      "|美國    |毛骨悚然：惡魔重生                                                |車庫娛樂股份有限公司|2022-09-23 |900    |\n",
      "|日本    |Ｎ号棟鬧鬼                                                        |天馬行空數位有限公司|2022-09-21 |872    |\n",
      "|中華民國|臥虎藏龍                                                          |美商台灣索尼影業發行|2000-07-07 |851    |\n",
      "|中華民國|他還年輕                                                          |目宿媒體股份有限公司|2022-09-02 |821    |\n",
      "|加拿大  |沉默呼聲                                                          |漂流木制作影視有限公|2022-08-12 |787    |\n",
      "|中華民國|兜兜風                                                            |月晴映像有限公司    |2022-09-16 |750    |\n",
      "|美國    |孤兒怨2：最黑暗的過去                                             |寶嘉租賃股份有限公司|2022-08-26 |742    |\n",
      "|中華民國|關於，半夜夢見林默娘乘著海湧把垃圾全丟進我的未來這件塑，好像是真的|車庫娛樂股份有限公司|2022-09-16 |703    |\n",
      "|中華民國|捍衛戰士+捍衛戰士2：獨行俠                                        |美商美國派拉蒙影片股|2022-09-18 |665    |\n",
      "|日本    |劇場版 超時空要塞F~虛空歌姬~                                      |水元素文化傳媒有限公|2022-09-07 |663    |\n",
      "|美國    |看你往哪跑                                                        |博偉電影股份有限公司|2022-09-16 |661    |\n",
      "|日本    |擅長捉弄人的高木同學劇場版                                        |木棉花國際股份有限公|2022-09-02 |642    |\n",
      "|日本    |角落小夥伴電影版：藍色月夜的魔法之子(日語版)                      |威視股份有限公司    |2022-08-05 |588    |\n",
      "|美國    |拉辛正傳                                                          |美商美國派拉蒙影片股|2022-09-08 |502    |\n",
      "|韓國    |緊急迫降                                                          |車庫娛樂股份有限公司|2022-08-12 |463    |\n",
      "|美國    |侏羅紀世界: 統霸天下                                              |美商美國環球影片股份|2022-06-08 |434    |\n",
      "|日本    |名偵探柯南 萬聖節的新娘                                           |普威爾國際股份有限公|2022-06-30 |339    |\n",
      "|美國    |2001太空漫遊                                                      |美商華納兄弟（遠東）|2018-06-04 |337    |\n",
      "|法國    |死噬                                                              |采昌國際多媒體股份有|2022-09-23 |299    |\n",
      "|中華民國|舞徑                                                              |好威映象有限公司    |2022-09-16 |289    |\n",
      "|美國    |喜悅：達賴喇嘛遇見屠圖主教                                        |佳映娛樂國際股份有限|2022-07-22 |200    |\n",
      "|美國    |貓王艾維斯                                                        |美商華納兄弟（遠東）|2022-06-23 |196    |\n",
      "|美國    |三千年的渴望                                                      |車庫娛樂股份有限公司|2022-09-02 |180    |\n",
      "|法國    |拆彈倒數30分鐘                                                    |仲業股份有限公司    |2022-09-23 |174    |\n",
      "|越南    |迷霧中的孩子                                                      |前景娛樂有限公司    |2022-09-23 |144    |\n",
      "|英國    |性愛成癮的男人                                                    |車庫娛樂股份有限公司|2022-09-23 |142    |\n",
      "|香港    |美少年之戀                                                        |英屬蓋曼群島商威望國|2022-09-23 |137    |\n",
      "|美國    |不!                                                               |美商美國環球影片股份|2022-08-12 |128    |\n",
      "+--------+------------------------------------------------------------------+--------------------+-----------+-------+\n",
      "only showing top 50 rows\n",
      "\n",
      "4th etime:  2022-10-11 23:50:05.971688+08:00\n"
     ]
    }
   ],
   "source": [
    "print(\"4th stime: \", datetime.datetime.now(tw))\n",
    "\n",
    "movielist_df = request_df.select(explode(col(\"result.list\")).alias(\"list\"))\n",
    "\n",
    "# movielist_df.printSchema()\n",
    "\n",
    "movielist_df.createOrReplaceTempView(\"list\")\n",
    "\n",
    "spark.sql(\"\"\"select list.country, \n",
    "                    trim(list.name) as movie_name, \n",
    "                    trim(substring(list.issue,1,10)) as issue, \n",
    "                    substring(list.releaseDate,1,10) as releaseDate,\n",
    "                    cast(list.tickets as INT) as tickets\n",
    "             from list ORDER BY tickets desc\"\"\") \\\n",
    "         .show(50,truncate=False)\n",
    "\n",
    "print(\"4th etime: \", datetime.datetime.now(tw))"
   ]
  },
  {
   "cell_type": "code",
   "execution_count": 195,
   "id": "fe20cda5-be0f-4b67-bb93-e2641c6ab153",
   "metadata": {},
   "outputs": [],
   "source": [
    "spark.stop()"
   ]
  },
  {
   "cell_type": "code",
   "execution_count": null,
   "id": "cb0e0d98-1d47-48d7-84eb-7893927a1382",
   "metadata": {},
   "outputs": [],
   "source": [
    "x = requests.get('https://boxoffice.tfi.org.tw/api/export?start=2022/10/02&end=2022/10/09')\n",
    "print(json.loads(x.text))"
   ]
  }
 ],
 "metadata": {
  "kernelspec": {
   "display_name": "Python 3 (ipykernel)",
   "language": "python",
   "name": "python3"
  },
  "language_info": {
   "codemirror_mode": {
    "name": "ipython",
    "version": 3
   },
   "file_extension": ".py",
   "mimetype": "text/x-python",
   "name": "python",
   "nbconvert_exporter": "python",
   "pygments_lexer": "ipython3",
   "version": "3.10.5"
  }
 },
 "nbformat": 4,
 "nbformat_minor": 5
}
